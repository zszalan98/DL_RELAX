{
 "cells": [
  {
   "cell_type": "code",
   "execution_count": 1,
   "metadata": {},
   "outputs": [],
   "source": [
    "import torch\n",
    "import pandas as pd\n",
    "import matplotlib.pyplot as plt"
   ]
  },
  {
   "cell_type": "markdown",
   "metadata": {},
   "source": [
    "## Results location"
   ]
  },
  {
   "cell_type": "code",
   "execution_count": 2,
   "metadata": {},
   "outputs": [],
   "source": [
    "import os\n",
    "from pathlib import Path\n",
    "\n",
    "# Get the current working directory\n",
    "home_path = Path(os.getcwd())\n",
    "hyp_folder = home_path / \"results/hyp_tuning\""
   ]
  },
  {
   "cell_type": "code",
   "execution_count": 3,
   "metadata": {},
   "outputs": [],
   "source": [
    "frog_folder = hyp_folder / \"frog_1\"\n",
    "rooster_folder = hyp_folder / \"rooster_1\""
   ]
  },
  {
   "cell_type": "markdown",
   "metadata": {},
   "source": [
    "## Read similarity dist. results"
   ]
  },
  {
   "cell_type": "code",
   "execution_count": 19,
   "metadata": {},
   "outputs": [],
   "source": [
    "# Tested hyperparameters\n",
    "num_of_freq_bins_list = [5, 10, 20, 30, 40, 50]\n",
    "num_of_time_bins_list = [5, 10, 15, 20, 25]\n",
    "p_values_list = [0.2, 0.3, 0.4, 0.5, 0.6]"
   ]
  },
  {
   "cell_type": "code",
   "execution_count": 16,
   "metadata": {},
   "outputs": [],
   "source": [
    "# Saved results reference:\n",
    "# [0]: spec_db\n",
    "# [1]: importance\n",
    "# [2]: uncertainty\n",
    "# [3]: similarities <-- Analysing these results\n",
    "# [4]: b_imp\n",
    "# [5]: b_unc"
   ]
  },
  {
   "cell_type": "code",
   "execution_count": 27,
   "metadata": {},
   "outputs": [],
   "source": [
    "def add_new_stats_to_df(similarities, df, freq_bins, time_bins, p_val):\n",
    "    # Get stats of similarities\n",
    "    mean = float(torch.mean(similarities))\n",
    "    median = float(torch.median(similarities))\n",
    "    std = float(torch.std(similarities))\n",
    "    # Range\n",
    "    min = float(torch.min(similarities))\n",
    "    max = float(torch.max(similarities))\n",
    "    range_100 = max - min\n",
    "    # 80% range\n",
    "    quant_10 = float(torch.quantile(similarities, 0.1))\n",
    "    quant_90 = float(torch.quantile(similarities, 0.9))\n",
    "    range_80 = quant_90 - quant_10\n",
    "\n",
    "    # Create a new row\n",
    "    new_row = {\"freq_bins\": freq_bins, \"time_bins\": time_bins, \"p_val\": p_val,\n",
    "               \"mean\": mean, \"median\": median, \"std\": std,\n",
    "               \"min\": min, \"max\": max, \"range_100\": range_100,\n",
    "               \"quant_10\": quant_10, \"quant_90\": quant_90, \"range_80\": range_80}\n",
    "    # Concat row to the dataframe\n",
    "    df = pd.concat([df, pd.DataFrame(new_row, index=[0])], ignore_index=True)\n",
    "\n",
    "    return df"
   ]
  },
  {
   "cell_type": "code",
   "execution_count": 28,
   "metadata": {},
   "outputs": [
    {
     "name": "stderr",
     "output_type": "stream",
     "text": [
      "C:\\Users\\Zalán Zsiborás\\AppData\\Local\\Temp\\ipykernel_13624\\1508466175.py:21: FutureWarning: The behavior of DataFrame concatenation with empty or all-NA entries is deprecated. In a future version, this will no longer exclude empty or all-NA columns when determining the result dtypes. To retain the old behavior, exclude the relevant entries before the concat operation.\n",
      "  df = pd.concat([df, pd.DataFrame(new_row, index=[0])], ignore_index=True)\n"
     ]
    }
   ],
   "source": [
    "# Creating dataframes for frog and rooster results\n",
    "columns = [\"freq_bins\", \"time_bins\", \"p_val\",\n",
    "            \"mean\", \"median\", \"std\",\n",
    "            \"min\", \"max\", \"range_100\",\n",
    "            \"quant_10\", \"quant_90\", \"range_80\"\n",
    "            ]\n",
    "frog_df = pd.DataFrame(columns=columns)\n",
    "rooster_df = pd.DataFrame(columns=columns)\n",
    "\n",
    "# Loop over results and save them in the dataframes\n",
    "for f_num in num_of_freq_bins_list:\n",
    "    for t_num in num_of_time_bins_list:\n",
    "        for p_val in p_values_list:\n",
    "            # Load the results\n",
    "            frog_path = frog_folder / f\"frog_1_{t_num}_{f_num}_{p_val}_test.pt\"\n",
    "            rooster_path = rooster_folder / f\"rooster_1_{t_num}_{f_num}_{p_val}_test.pt\"\n",
    "\n",
    "            loaded_frog = True\n",
    "            loaded_rooster = True\n",
    "            try:\n",
    "                frog_results = torch.load(frog_path)\n",
    "                frog_similarities = frog_results[3]\n",
    "            except:\n",
    "                print(f\"Could not load {frog_path}\")\n",
    "                loaded_frog = False\n",
    "\n",
    "            try:\n",
    "                rooster_results = torch.load(rooster_path)\n",
    "                rooster_similarities = rooster_results[3]\n",
    "            except:\n",
    "                print(f\"Could not load {rooster_path}\")\n",
    "                loaded_rooster = False\n",
    "            \n",
    "\n",
    "            # Calculate the mean, median and std\n",
    "            # Append the results to the dataframes\n",
    "            \n",
    "            if loaded_frog:\n",
    "                frog_df = add_new_stats_to_df(frog_similarities, frog_df, f_num, t_num, p_val)\n",
    "\n",
    "            if loaded_rooster:\n",
    "                rooster_df = add_new_stats_to_df(rooster_similarities, rooster_df, f_num, t_num, p_val)"
   ]
  },
  {
   "cell_type": "code",
   "execution_count": 29,
   "metadata": {},
   "outputs": [],
   "source": [
    "# Save the dataframes\n",
    "frog_df.to_csv(frog_folder / \"frog_results.csv\")\n",
    "rooster_df.to_csv(rooster_folder / \"rooster_results.csv\")"
   ]
  },
  {
   "cell_type": "markdown",
   "metadata": {},
   "source": [
    "# Analysing frog data"
   ]
  },
  {
   "cell_type": "markdown",
   "metadata": {},
   "source": [
    "### Correlation mx."
   ]
  },
  {
   "cell_type": "code",
   "execution_count": 46,
   "metadata": {},
   "outputs": [
    {
     "name": "stdout",
     "output_type": "stream",
     "text": [
      "               mean    median       std       min       max  range_100  \\\n",
      "freq_bins -0.450054 -0.462296 -0.582670 -0.208639 -0.485021  -0.488569   \n",
      "time_bins -0.229862 -0.217161 -0.559796  0.027029 -0.434137  -0.569381   \n",
      "p_val     -0.785735 -0.773266 -0.093494 -0.778191 -0.677127  -0.381276   \n",
      "\n",
      "           quant_10  quant_90  range_80  \n",
      "freq_bins -0.326108 -0.506251 -0.576435  \n",
      "time_bins -0.119010 -0.325473 -0.542002  \n",
      "p_val     -0.860610 -0.708510 -0.042400  \n"
     ]
    },
    {
     "data": {
      "image/png": "[encoded data removed]",
      "text/plain": [
       "<Figure size 1440x480 with 2 Axes>"
      ]
     },
     "metadata": {},
     "output_type": "display_data"
    }
   ],
   "source": [
    "# Create correlation matrix for frog\n",
    "corr_matrix = frog_df.corr()\n",
    "print(corr_matrix.iloc[0:3, 3:])\n",
    "\n",
    "# Plot the correlation matrix\n",
    "plt.matshow(corr_matrix.iloc[0:3, 3:])\n",
    "x_ticks = corr_matrix.columns[3:]\n",
    "y_ticks = corr_matrix.index[0:3]\n",
    "plt.xticks(range(len(x_ticks)), x_ticks)\n",
    "plt.yticks(range(len(y_ticks)), y_ticks)\n",
    "plt.colorbar()\n",
    "# plt.savefig(frog_folder / \"frog_corr_matrix.png\")\n",
    "plt.show()"
   ]
  },
  {
   "cell_type": "code",
   "execution_count": 48,
   "metadata": {},
   "outputs": [
    {
     "name": "stdout",
     "output_type": "stream",
     "text": [
      "               mean    median       std       min       max  range_100  \\\n",
      "freq_bins -0.191800 -0.157185 -0.540953  0.190800 -0.476650  -0.564287   \n",
      "time_bins -0.012671 -0.008248 -0.529880  0.588201 -0.302171  -0.652963   \n",
      "p_val     -0.962343 -0.954525 -0.543300 -0.651444 -0.723268  -0.261685   \n",
      "\n",
      "           quant_10  quant_90  range_80  \n",
      "freq_bins  0.026275 -0.350203 -0.523076  \n",
      "time_bins  0.290640 -0.189059 -0.501158  \n",
      "p_val     -0.898406 -0.899319 -0.578906  \n"
     ]
    },
    {
     "data": {
      "image/png": "[encoded data removed]",
      "text/plain": [
       "<Figure size 1440x480 with 2 Axes>"
      ]
     },
     "metadata": {},
     "output_type": "display_data"
    }
   ],
   "source": [
    "# Compute correlation matrix for rooster\n",
    "corr_matrix = rooster_df.corr()\n",
    "print(corr_matrix.iloc[0:3, 3:])\n",
    "# Plot the correlation matrix\n",
    "plt.matshow(corr_matrix.iloc[0:3, 3:])\n",
    "x_ticks = corr_matrix.columns[3:]\n",
    "y_ticks = corr_matrix.index[0:3]\n",
    "plt.xticks(range(len(x_ticks)), x_ticks)\n",
    "plt.yticks(range(len(y_ticks)), y_ticks)\n",
    "plt.colorbar()\n",
    "# plt.savefig(rooster_folder / \"rooster_corr_matrix.png\")\n",
    "plt.show()\n"
   ]
  }
 ],
 "metadata": {
  "kernelspec": {
   "display_name": ".venv",
   "language": "python",
   "name": "python3"
  },
  "language_info": {
   "codemirror_mode": {
    "name": "ipython",
    "version": 3
   },
   "file_extension": ".py",
   "mimetype": "text/x-python",
   "name": "python",
   "nbconvert_exporter": "python",
   "pygments_lexer": "ipython3",
   "version": "3.10.11"
  }
 },
 "nbformat": 4,
 "nbformat_minor": 2
}
